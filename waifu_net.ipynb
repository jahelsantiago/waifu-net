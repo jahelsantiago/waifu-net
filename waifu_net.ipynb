{
  "nbformat": 4,
  "nbformat_minor": 0,
  "metadata": {
    "kernelspec": {
      "name": "python3",
      "display_name": "Python 3",
      "language": "python"
    },
    "language_info": {
      "name": "python",
      "version": "3.7.6",
      "mimetype": "text/x-python",
      "codemirror_mode": {
        "name": "ipython",
        "version": 3
      },
      "pygments_lexer": "ipython3",
      "nbconvert_exporter": "python",
      "file_extension": ".py"
    },
    "colab": {
      "name": "waifu-net-v3.ipynb",
      "provenance": [],
      "include_colab_link": true
    }
  },
  "cells": [
    {
      "cell_type": "markdown",
      "metadata": {
        "id": "view-in-github",
        "colab_type": "text"
      },
      "source": [
        "<a href=\"https://colab.research.google.com/github/jahelsantiago/waifu-net/blob/main/waifu_net.ipynb\" target=\"_parent\"><img src=\"https://colab.research.google.com/assets/colab-badge.svg\" alt=\"Open In Colab\"/></a>"
      ]
    },
    {
      "cell_type": "code",
      "metadata": {
        "_uuid": "8f2839f25d086af736a60e9eeb907d3b93b6e0e5",
        "_cell_guid": "b1076dfc-b9ad-4769-8c92-a6c4dae69d19",
        "trusted": true,
        "id": "J3Nhy5reFJ_P"
      },
      "source": [
        "import numpy as np # linear algebra\n",
        "import pandas as pd # data processing, CSV file I/O (e.g. pd.read_csv)\n",
        "from tensorflow import keras \n",
        "from tensorflow.keras import layers\n",
        "from tensorflow.keras.preprocessing.image import ImageDataGenerator\n",
        "import keras.backend as K"
      ],
      "execution_count": null,
      "outputs": []
    },
    {
      "cell_type": "markdown",
      "metadata": {
        "id": "XeOiL55UFJ_S"
      },
      "source": [
        "# Introduction:\n",
        "\n",
        "In anime (japanese animation)  the main characters present personality archetypes that are represented in drawn features and characteristics. For example a character called “tsundere” are represented for being cold, reserved, temperamental and sometimes even may be hostile, but with time, she will turns in a really  warm, sweet, kind and tender person. The general appearance of these anime characters are: innocent looking, angry faces, upset expressions and usually they have long hair.\n",
        "\n",
        "![Sin%20t%C3%ADtulo2.png](attachment:Sin%20t%C3%ADtulo2.png)\n",
        "\n",
        "The main objective of our project is to create a neural network that can classify a given image into their personality archetype. For example if we present the following image, the model should classify it as a tsundere.\n",
        "\n",
        "![Sin%20t%C3%ADtulo.jpg](attachment:Sin%20t%C3%ADtulo.jpg)\n",
        "\n",
        "For that pourpuse, we divided the main goal in the followings tasks:\n",
        "* **Construction of waifus dere-type Database:** It is necessary to create a database with the main characters of every dere-type. \n",
        "* **Images Mining:** It is necessary to create our own images dataset because there is no one avalive of this topic on the internet. For that purpose we will mine 200 images for every waifu in the previously created database.\n",
        "* **Data augmentation:** There are not enough images of this topic available for mining. So it is necessary to increase the data set for other methods.\n",
        "* **Model construction:** It's necessary to create a model taking into account the small data set and the class imbalance presented in the dataset."
      ]
    },
    {
      "cell_type": "markdown",
      "metadata": {
        "id": "YRk5zXm-FJ_T"
      },
      "source": [
        "# Materials and methods\n"
      ]
    },
    {
      "cell_type": "markdown",
      "metadata": {
        "id": "Fe7m2aUKFJ_T"
      },
      "source": [
        "## Data:\n",
        "The data set is composed by 7 classes w*hich are Yandere, Deredere, Dandere, Himedere, Yangire, Tsundere and Kuudere.* As you can see in table 1 you can see every representative of each class. Each class has between 15 and 30 main character  and for each character there are 200 images for a total of 15.000 images. The data was divided in two sets, the train, and the validation set  with 80%  and 20% of the data respectively.  "
      ]
    },
    {
      "cell_type": "code",
      "metadata": {
        "trusted": true,
        "id": "GNLoADSMFJ_U",
        "outputId": "bd1caf87-fa99-44c6-c6b6-c20c55c776e6"
      },
      "source": [
        "pd.read_excel(r\"../input/female-anime-characters-anime-dataset/Waifus.xlsx\")"
      ],
      "execution_count": null,
      "outputs": [
        {
          "output_type": "execute_result",
          "data": {
            "text/plain": [
              "                       Kundere                Tsundere             Yandere  \\\n",
              "0                  Rei Ayanami          Minatsu Shiina       Mizuki Himeji   \n",
              "1                   Mei Misaki             Aya Komichi             Konishi   \n",
              "2         Eucliwood Hellscythe       Michiru Kinushima         Kurenai Rin   \n",
              "3               Mashiro Shiina        Misato Tachibana             Belarus   \n",
              "4                 Homura Akemi            Nene Odagiri  Senjogahara Hitagi   \n",
              "5              Mikasa Ackerman           Lafiel Abriel    Hotogi Shirayuki   \n",
              "6                          Yin          Kagami Hiiragi        Akane Hiyama   \n",
              "7                      Enma Ai                Emi Yusa         Kaede Fuyou   \n",
              "8                       Sakaki            Chris Yukine      Nadeko Sengoku   \n",
              "9                        Saber           Ayano Sugiura  Anna Nishikinomiya   \n",
              "10              Minami Iwasaki           Nanami Aoyama    Yukako Yamagishi   \n",
              "11                 Yuki Nagato         Veldora Tempest     Kurumi Tokisaki   \n",
              "12                Kuroyukihime                   Maria        Touko Fukawa   \n",
              "13            Kanade Tachibana        Chitoge Kirisaki       Ringo Oginome   \n",
              "14  Charlotte Hélène d'Orléans          Madoka Ayukawa      Megumi Shimizu   \n",
              "15         Hitagi Senjougahara           Eri Sawachika           Mana Ouma   \n",
              "16                 Date A Live        Kyou Fujibayashi     Kanato Sakamaki   \n",
              "17                  Ruri Gokou        Kaguya Shinomiya         Yuka Minase   \n",
              "18             Konjiki no Yami              Syaoran Li         Shuka Karin   \n",
              "19                 Hancock Boa  Eriri Spencer Sawamura       Nina Einstein   \n",
              "20                         NaN            Shiki Ryougi      Haruna Niekawa   \n",
              "21                         NaN          Kaname Chidori    Minatsuki Takami   \n",
              "22                         NaN           Mikoto Misaka             Esdeath   \n",
              "23                         NaN            Taiga Aisaka                Lucy   \n",
              "24                         NaN           Kurisu Makise          Misa Amane   \n",
              "25                         NaN             Rin Tohsaka     Satou Matsuzaka   \n",
              "26                         NaN     Asuka Langley Soryu      Shion Sonozaki   \n",
              "27                         NaN                     NaN          Yuno Gasai   \n",
              "\n",
              "               Deredere          Dandere               Himedere  \\\n",
              "0          Chiyo Sakura     Hinata Hyuga           Erina Nakiri   \n",
              "1          Rinko Yamato      Sekiya Naru       Sena Kashiwazaki   \n",
              "2         Hotaru Ichijo    Tomoko Kuroki         Lilith Bristol   \n",
              "3   Kouko \"Roboko\" Kaga      Mio Akiyama          Ayano Kannagi   \n",
              "4   Meiko \"Menma\" Honma  Shiori Shiomiya        Haruhi Suzumiya   \n",
              "5            Ako Tamaki  Tadokoro Megumi               Beatrice   \n",
              "6       Rikka Takanashi   Kosaki Onodera        Satsuki Kiryuin   \n",
              "7          Chiho Sasaki  Kotomi Ichinose    Asuka Langley Soryu   \n",
              "8     Elizabeth Midford       Nana Ebina  Cornelia Li Britannia   \n",
              "9                   NaN           Yunyun                  Ayeka   \n",
              "10                  NaN     Mahiru Inami             Umaru Doma   \n",
              "11                  NaN   Nadeko Sengoku          Eri Sawachika   \n",
              "12                  NaN  Mikazuki Yozora          Ichiko Sakura   \n",
              "13                  NaN            Shiro             Mio Aoyama   \n",
              "14                  NaN              NaN          Benio Amakusa   \n",
              "15                  NaN              NaN            Azuki Azusa   \n",
              "16                  NaN              NaN        Himeko Momokino   \n",
              "17                  NaN              NaN        Ayame Reikaidou   \n",
              "18                  NaN              NaN          Nagi Sanzenin   \n",
              "19                  NaN              NaN   Celia Cumani Aintree   \n",
              "20                  NaN              NaN                    NaN   \n",
              "21                  NaN              NaN                    NaN   \n",
              "22                  NaN              NaN                    NaN   \n",
              "23                  NaN              NaN                    NaN   \n",
              "24                  NaN              NaN                    NaN   \n",
              "25                  NaN              NaN                    NaN   \n",
              "26                  NaN              NaN                    NaN   \n",
              "27                  NaN              NaN                    NaN   \n",
              "\n",
              "                          Yanguire  \n",
              "0                        Kouha Ren  \n",
              "1                       Kureo Mado  \n",
              "2                     Akiko Yosano  \n",
              "3                 Seryu Ubiquitous  \n",
              "4                       Nui Harime  \n",
              "5                            Shiro  \n",
              "6                            Crona  \n",
              "7                 Tsubaki Kasugano  \n",
              "8   Nashetania Loei Piena Augustra  \n",
              "9            Euphemia li Britannia  \n",
              "10                             NaN  \n",
              "11                             NaN  \n",
              "12                             NaN  \n",
              "13                             NaN  \n",
              "14                             NaN  \n",
              "15                             NaN  \n",
              "16                             NaN  \n",
              "17                             NaN  \n",
              "18                             NaN  \n",
              "19                             NaN  \n",
              "20                             NaN  \n",
              "21                             NaN  \n",
              "22                             NaN  \n",
              "23                             NaN  \n",
              "24                             NaN  \n",
              "25                             NaN  \n",
              "26                             NaN  \n",
              "27                             NaN  "
            ],
            "text/html": [
              "<div>\n",
              "<style scoped>\n",
              "    .dataframe tbody tr th:only-of-type {\n",
              "        vertical-align: middle;\n",
              "    }\n",
              "\n",
              "    .dataframe tbody tr th {\n",
              "        vertical-align: top;\n",
              "    }\n",
              "\n",
              "    .dataframe thead th {\n",
              "        text-align: right;\n",
              "    }\n",
              "</style>\n",
              "<table border=\"1\" class=\"dataframe\">\n",
              "  <thead>\n",
              "    <tr style=\"text-align: right;\">\n",
              "      <th></th>\n",
              "      <th>Kundere</th>\n",
              "      <th>Tsundere</th>\n",
              "      <th>Yandere</th>\n",
              "      <th>Deredere</th>\n",
              "      <th>Dandere</th>\n",
              "      <th>Himedere</th>\n",
              "      <th>Yanguire</th>\n",
              "    </tr>\n",
              "  </thead>\n",
              "  <tbody>\n",
              "    <tr>\n",
              "      <th>0</th>\n",
              "      <td>Rei Ayanami</td>\n",
              "      <td>Minatsu Shiina</td>\n",
              "      <td>Mizuki Himeji</td>\n",
              "      <td>Chiyo Sakura</td>\n",
              "      <td>Hinata Hyuga</td>\n",
              "      <td>Erina Nakiri</td>\n",
              "      <td>Kouha Ren</td>\n",
              "    </tr>\n",
              "    <tr>\n",
              "      <th>1</th>\n",
              "      <td>Mei Misaki</td>\n",
              "      <td>Aya Komichi</td>\n",
              "      <td>Konishi</td>\n",
              "      <td>Rinko Yamato</td>\n",
              "      <td>Sekiya Naru</td>\n",
              "      <td>Sena Kashiwazaki</td>\n",
              "      <td>Kureo Mado</td>\n",
              "    </tr>\n",
              "    <tr>\n",
              "      <th>2</th>\n",
              "      <td>Eucliwood Hellscythe</td>\n",
              "      <td>Michiru Kinushima</td>\n",
              "      <td>Kurenai Rin</td>\n",
              "      <td>Hotaru Ichijo</td>\n",
              "      <td>Tomoko Kuroki</td>\n",
              "      <td>Lilith Bristol</td>\n",
              "      <td>Akiko Yosano</td>\n",
              "    </tr>\n",
              "    <tr>\n",
              "      <th>3</th>\n",
              "      <td>Mashiro Shiina</td>\n",
              "      <td>Misato Tachibana</td>\n",
              "      <td>Belarus</td>\n",
              "      <td>Kouko \"Roboko\" Kaga</td>\n",
              "      <td>Mio Akiyama</td>\n",
              "      <td>Ayano Kannagi</td>\n",
              "      <td>Seryu Ubiquitous</td>\n",
              "    </tr>\n",
              "    <tr>\n",
              "      <th>4</th>\n",
              "      <td>Homura Akemi</td>\n",
              "      <td>Nene Odagiri</td>\n",
              "      <td>Senjogahara Hitagi</td>\n",
              "      <td>Meiko \"Menma\" Honma</td>\n",
              "      <td>Shiori Shiomiya</td>\n",
              "      <td>Haruhi Suzumiya</td>\n",
              "      <td>Nui Harime</td>\n",
              "    </tr>\n",
              "    <tr>\n",
              "      <th>5</th>\n",
              "      <td>Mikasa Ackerman</td>\n",
              "      <td>Lafiel Abriel</td>\n",
              "      <td>Hotogi Shirayuki</td>\n",
              "      <td>Ako Tamaki</td>\n",
              "      <td>Tadokoro Megumi</td>\n",
              "      <td>Beatrice</td>\n",
              "      <td>Shiro</td>\n",
              "    </tr>\n",
              "    <tr>\n",
              "      <th>6</th>\n",
              "      <td>Yin</td>\n",
              "      <td>Kagami Hiiragi</td>\n",
              "      <td>Akane Hiyama</td>\n",
              "      <td>Rikka Takanashi</td>\n",
              "      <td>Kosaki Onodera</td>\n",
              "      <td>Satsuki Kiryuin</td>\n",
              "      <td>Crona</td>\n",
              "    </tr>\n",
              "    <tr>\n",
              "      <th>7</th>\n",
              "      <td>Enma Ai</td>\n",
              "      <td>Emi Yusa</td>\n",
              "      <td>Kaede Fuyou</td>\n",
              "      <td>Chiho Sasaki</td>\n",
              "      <td>Kotomi Ichinose</td>\n",
              "      <td>Asuka Langley Soryu</td>\n",
              "      <td>Tsubaki Kasugano</td>\n",
              "    </tr>\n",
              "    <tr>\n",
              "      <th>8</th>\n",
              "      <td>Sakaki</td>\n",
              "      <td>Chris Yukine</td>\n",
              "      <td>Nadeko Sengoku</td>\n",
              "      <td>Elizabeth Midford</td>\n",
              "      <td>Nana Ebina</td>\n",
              "      <td>Cornelia Li Britannia</td>\n",
              "      <td>Nashetania Loei Piena Augustra</td>\n",
              "    </tr>\n",
              "    <tr>\n",
              "      <th>9</th>\n",
              "      <td>Saber</td>\n",
              "      <td>Ayano Sugiura</td>\n",
              "      <td>Anna Nishikinomiya</td>\n",
              "      <td>NaN</td>\n",
              "      <td>Yunyun</td>\n",
              "      <td>Ayeka</td>\n",
              "      <td>Euphemia li Britannia</td>\n",
              "    </tr>\n",
              "    <tr>\n",
              "      <th>10</th>\n",
              "      <td>Minami Iwasaki</td>\n",
              "      <td>Nanami Aoyama</td>\n",
              "      <td>Yukako Yamagishi</td>\n",
              "      <td>NaN</td>\n",
              "      <td>Mahiru Inami</td>\n",
              "      <td>Umaru Doma</td>\n",
              "      <td>NaN</td>\n",
              "    </tr>\n",
              "    <tr>\n",
              "      <th>11</th>\n",
              "      <td>Yuki Nagato</td>\n",
              "      <td>Veldora Tempest</td>\n",
              "      <td>Kurumi Tokisaki</td>\n",
              "      <td>NaN</td>\n",
              "      <td>Nadeko Sengoku</td>\n",
              "      <td>Eri Sawachika</td>\n",
              "      <td>NaN</td>\n",
              "    </tr>\n",
              "    <tr>\n",
              "      <th>12</th>\n",
              "      <td>Kuroyukihime</td>\n",
              "      <td>Maria</td>\n",
              "      <td>Touko Fukawa</td>\n",
              "      <td>NaN</td>\n",
              "      <td>Mikazuki Yozora</td>\n",
              "      <td>Ichiko Sakura</td>\n",
              "      <td>NaN</td>\n",
              "    </tr>\n",
              "    <tr>\n",
              "      <th>13</th>\n",
              "      <td>Kanade Tachibana</td>\n",
              "      <td>Chitoge Kirisaki</td>\n",
              "      <td>Ringo Oginome</td>\n",
              "      <td>NaN</td>\n",
              "      <td>Shiro</td>\n",
              "      <td>Mio Aoyama</td>\n",
              "      <td>NaN</td>\n",
              "    </tr>\n",
              "    <tr>\n",
              "      <th>14</th>\n",
              "      <td>Charlotte Hélène d'Orléans</td>\n",
              "      <td>Madoka Ayukawa</td>\n",
              "      <td>Megumi Shimizu</td>\n",
              "      <td>NaN</td>\n",
              "      <td>NaN</td>\n",
              "      <td>Benio Amakusa</td>\n",
              "      <td>NaN</td>\n",
              "    </tr>\n",
              "    <tr>\n",
              "      <th>15</th>\n",
              "      <td>Hitagi Senjougahara</td>\n",
              "      <td>Eri Sawachika</td>\n",
              "      <td>Mana Ouma</td>\n",
              "      <td>NaN</td>\n",
              "      <td>NaN</td>\n",
              "      <td>Azuki Azusa</td>\n",
              "      <td>NaN</td>\n",
              "    </tr>\n",
              "    <tr>\n",
              "      <th>16</th>\n",
              "      <td>Date A Live</td>\n",
              "      <td>Kyou Fujibayashi</td>\n",
              "      <td>Kanato Sakamaki</td>\n",
              "      <td>NaN</td>\n",
              "      <td>NaN</td>\n",
              "      <td>Himeko Momokino</td>\n",
              "      <td>NaN</td>\n",
              "    </tr>\n",
              "    <tr>\n",
              "      <th>17</th>\n",
              "      <td>Ruri Gokou</td>\n",
              "      <td>Kaguya Shinomiya</td>\n",
              "      <td>Yuka Minase</td>\n",
              "      <td>NaN</td>\n",
              "      <td>NaN</td>\n",
              "      <td>Ayame Reikaidou</td>\n",
              "      <td>NaN</td>\n",
              "    </tr>\n",
              "    <tr>\n",
              "      <th>18</th>\n",
              "      <td>Konjiki no Yami</td>\n",
              "      <td>Syaoran Li</td>\n",
              "      <td>Shuka Karin</td>\n",
              "      <td>NaN</td>\n",
              "      <td>NaN</td>\n",
              "      <td>Nagi Sanzenin</td>\n",
              "      <td>NaN</td>\n",
              "    </tr>\n",
              "    <tr>\n",
              "      <th>19</th>\n",
              "      <td>Hancock Boa</td>\n",
              "      <td>Eriri Spencer Sawamura</td>\n",
              "      <td>Nina Einstein</td>\n",
              "      <td>NaN</td>\n",
              "      <td>NaN</td>\n",
              "      <td>Celia Cumani Aintree</td>\n",
              "      <td>NaN</td>\n",
              "    </tr>\n",
              "    <tr>\n",
              "      <th>20</th>\n",
              "      <td>NaN</td>\n",
              "      <td>Shiki Ryougi</td>\n",
              "      <td>Haruna Niekawa</td>\n",
              "      <td>NaN</td>\n",
              "      <td>NaN</td>\n",
              "      <td>NaN</td>\n",
              "      <td>NaN</td>\n",
              "    </tr>\n",
              "    <tr>\n",
              "      <th>21</th>\n",
              "      <td>NaN</td>\n",
              "      <td>Kaname Chidori</td>\n",
              "      <td>Minatsuki Takami</td>\n",
              "      <td>NaN</td>\n",
              "      <td>NaN</td>\n",
              "      <td>NaN</td>\n",
              "      <td>NaN</td>\n",
              "    </tr>\n",
              "    <tr>\n",
              "      <th>22</th>\n",
              "      <td>NaN</td>\n",
              "      <td>Mikoto Misaka</td>\n",
              "      <td>Esdeath</td>\n",
              "      <td>NaN</td>\n",
              "      <td>NaN</td>\n",
              "      <td>NaN</td>\n",
              "      <td>NaN</td>\n",
              "    </tr>\n",
              "    <tr>\n",
              "      <th>23</th>\n",
              "      <td>NaN</td>\n",
              "      <td>Taiga Aisaka</td>\n",
              "      <td>Lucy</td>\n",
              "      <td>NaN</td>\n",
              "      <td>NaN</td>\n",
              "      <td>NaN</td>\n",
              "      <td>NaN</td>\n",
              "    </tr>\n",
              "    <tr>\n",
              "      <th>24</th>\n",
              "      <td>NaN</td>\n",
              "      <td>Kurisu Makise</td>\n",
              "      <td>Misa Amane</td>\n",
              "      <td>NaN</td>\n",
              "      <td>NaN</td>\n",
              "      <td>NaN</td>\n",
              "      <td>NaN</td>\n",
              "    </tr>\n",
              "    <tr>\n",
              "      <th>25</th>\n",
              "      <td>NaN</td>\n",
              "      <td>Rin Tohsaka</td>\n",
              "      <td>Satou Matsuzaka</td>\n",
              "      <td>NaN</td>\n",
              "      <td>NaN</td>\n",
              "      <td>NaN</td>\n",
              "      <td>NaN</td>\n",
              "    </tr>\n",
              "    <tr>\n",
              "      <th>26</th>\n",
              "      <td>NaN</td>\n",
              "      <td>Asuka Langley Soryu</td>\n",
              "      <td>Shion Sonozaki</td>\n",
              "      <td>NaN</td>\n",
              "      <td>NaN</td>\n",
              "      <td>NaN</td>\n",
              "      <td>NaN</td>\n",
              "    </tr>\n",
              "    <tr>\n",
              "      <th>27</th>\n",
              "      <td>NaN</td>\n",
              "      <td>NaN</td>\n",
              "      <td>Yuno Gasai</td>\n",
              "      <td>NaN</td>\n",
              "      <td>NaN</td>\n",
              "      <td>NaN</td>\n",
              "      <td>NaN</td>\n",
              "    </tr>\n",
              "  </tbody>\n",
              "</table>\n",
              "</div>"
            ]
          },
          "metadata": {
            "tags": []
          },
          "execution_count": 48
        }
      ]
    },
    {
      "cell_type": "code",
      "metadata": {
        "trusted": true,
        "id": "KjCm7ShdFJ_U",
        "outputId": "94982a08-43c7-4c5a-8d5c-0113ae941e46"
      },
      "source": [
        "import os \n",
        "main_path = r\"../input/female-anime-characters-anime-dataset/waifus_images/waifus_images_train\"\n",
        "paths = os.listdir(main_path)\n",
        "dict_clases = {}\n",
        "for path in paths:\n",
        "  dict_clases[path] = [len(os.listdir(os.path.join(main_path, path)))]\n",
        "\n",
        "\n",
        "df_classes = pd.DataFrame(dict_clases)  \n",
        "df_classes.head()"
      ],
      "execution_count": null,
      "outputs": [
        {
          "output_type": "execute_result",
          "data": {
            "text/plain": [
              "   himedere  Kundere  Tsundere  Yangire  Dandere  Deredere  Yandere\n",
              "0      1970     2023      2896     1078     1515      1595     2849"
            ],
            "text/html": [
              "<div>\n",
              "<style scoped>\n",
              "    .dataframe tbody tr th:only-of-type {\n",
              "        vertical-align: middle;\n",
              "    }\n",
              "\n",
              "    .dataframe tbody tr th {\n",
              "        vertical-align: top;\n",
              "    }\n",
              "\n",
              "    .dataframe thead th {\n",
              "        text-align: right;\n",
              "    }\n",
              "</style>\n",
              "<table border=\"1\" class=\"dataframe\">\n",
              "  <thead>\n",
              "    <tr style=\"text-align: right;\">\n",
              "      <th></th>\n",
              "      <th>himedere</th>\n",
              "      <th>Kundere</th>\n",
              "      <th>Tsundere</th>\n",
              "      <th>Yangire</th>\n",
              "      <th>Dandere</th>\n",
              "      <th>Deredere</th>\n",
              "      <th>Yandere</th>\n",
              "    </tr>\n",
              "  </thead>\n",
              "  <tbody>\n",
              "    <tr>\n",
              "      <th>0</th>\n",
              "      <td>1970</td>\n",
              "      <td>2023</td>\n",
              "      <td>2896</td>\n",
              "      <td>1078</td>\n",
              "      <td>1515</td>\n",
              "      <td>1595</td>\n",
              "      <td>2849</td>\n",
              "    </tr>\n",
              "  </tbody>\n",
              "</table>\n",
              "</div>"
            ]
          },
          "metadata": {
            "tags": []
          },
          "execution_count": 49
        }
      ]
    },
    {
      "cell_type": "markdown",
      "metadata": {
        "id": "6Fp07JK8FJ_V"
      },
      "source": [
        "As you can see in the table, there are classes with more representantes so they have more data."
      ]
    },
    {
      "cell_type": "code",
      "metadata": {
        "trusted": true,
        "id": "L5xF2y3cFJ_V",
        "outputId": "45ae0787-b69c-418b-b8dc-63b8e55e2278"
      },
      "source": [
        "df_classes.plot.bar()"
      ],
      "execution_count": null,
      "outputs": [
        {
          "output_type": "execute_result",
          "data": {
            "text/plain": [
              "<matplotlib.axes._subplots.AxesSubplot at 0x7ff1913a4790>"
            ]
          },
          "metadata": {
            "tags": []
          },
          "execution_count": 50
        },
        {
          "output_type": "display_data",
          "data": {
            "text/plain": [
              "<Figure size 432x288 with 1 Axes>"
            ],
            "image/png": "[encoded data removed]"
          },
          "metadata": {
            "tags": [],
            "needs_background": "light"
          }
        }
      ]
    },
    {
      "cell_type": "markdown",
      "metadata": {
        "id": "_9Yk_LTzFJ_W"
      },
      "source": [
        "Examples of the data set:"
      ]
    },
    {
      "cell_type": "code",
      "metadata": {
        "trusted": true,
        "id": "X69hy1RPFJ_W"
      },
      "source": [
        "pass"
      ],
      "execution_count": null,
      "outputs": []
    },
    {
      "cell_type": "markdown",
      "metadata": {
        "id": "WO3GewgaFJ_W"
      },
      "source": [
        "## Methods "
      ]
    },
    {
      "cell_type": "markdown",
      "metadata": {
        "id": "cm9Gfv30FJ_X"
      },
      "source": [
        ""
      ]
    },
    {
      "cell_type": "markdown",
      "metadata": {
        "id": "xSjYXc00FJ_X"
      },
      "source": [
        "# Algorithm"
      ]
    },
    {
      "cell_type": "markdown",
      "metadata": {
        "id": "JP0-dkEmFJ_X"
      },
      "source": [
        "import some general libraries and configure the GPU."
      ]
    },
    {
      "cell_type": "code",
      "metadata": {
        "trusted": true,
        "id": "DNwzzBrpFJ_X",
        "outputId": "50d902eb-dc42-4adc-e73d-70328f3cb295"
      },
      "source": [
        "import tensorflow as tf\n",
        "import os\n",
        "\n",
        "device_name = tf.test.gpu_device_name()\n",
        "if \"GPU\" not in device_name:\n",
        "    print(\"GPU device not found\")\n",
        "print('Found GPU at: {}'.format(device_name))"
      ],
      "execution_count": null,
      "outputs": [
        {
          "output_type": "stream",
          "text": [
            "Found GPU at: /device:GPU:0\n"
          ],
          "name": "stdout"
        }
      ]
    },
    {
      "cell_type": "code",
      "metadata": {
        "trusted": true,
        "id": "ULHKhC5GFJ_Y",
        "outputId": "1909c683-94a0-48c2-da7b-91766c8f52e6"
      },
      "source": [
        "# define the path were the images are\n",
        "train_dir = r\"../input/female-anime-characters-anime-dataset/waifus_images/waifus_images_train\"\n",
        "val_dir = r\"../input/female-anime-characters-anime-dataset/waifus_images/waifus_images_val\"\n",
        "class_names = os.listdir(main_path)\n",
        "class_names"
      ],
      "execution_count": null,
      "outputs": [
        {
          "output_type": "execute_result",
          "data": {
            "text/plain": [
              "['himedere',\n",
              " 'Kundere',\n",
              " 'Tsundere',\n",
              " 'Yangire',\n",
              " 'Dandere',\n",
              " 'Deredere',\n",
              " 'Yandere']"
            ]
          },
          "metadata": {
            "tags": []
          },
          "execution_count": 55
        }
      ]
    },
    {
      "cell_type": "code",
      "metadata": {
        "trusted": true,
        "id": "I7_l9hEAFJ_Y"
      },
      "source": [
        "# define general variables\n",
        "IMG_SIZE = 224\n",
        "batch_size = 32\n",
        "NUM_CLASSES = 7"
      ],
      "execution_count": null,
      "outputs": []
    },
    {
      "cell_type": "markdown",
      "metadata": {
        "id": "F_0IFzLYFJ_Y"
      },
      "source": [
        "In the next cell, we will provide data augmentation to our images and create and organize the data in a way that kereas can understand it. For the data augmentation purpose, we will use the module [Image data preprocessing](https://keras.io/api/preprocessing/image/#flowfromdataframe-method) . A useful module that allows us to create new images in base with the ones that we already have and control how to create the new one with parameters. "
      ]
    },
    {
      "cell_type": "code",
      "metadata": {
        "trusted": true,
        "id": "QNUmHJ9vFJ_Z",
        "outputId": "dc0e376b-a692-493e-ca90-bae2c78e6d8d"
      },
      "source": [
        "Train_Image_generator = ImageDataGenerator(\n",
        "    rotation_range = 40, # Degree range for random rotations.\n",
        "    width_shift_range=0.2,  # Randomly zoom inputs width in 20%.\n",
        "    height_shift_range=0.2, # Randomly zoom inputs height in 20%.\n",
        "    horizontal_flip = True, # Randomly flip inputs horizontally.\n",
        "    rescale=1./255    \n",
        ")\n",
        "\n",
        "Test_Image_generator = ImageDataGenerator(    \n",
        "    rescale=1./255\n",
        ")\n",
        "\n",
        "\n",
        "train_ds = Train_Image_generator.flow_from_directory(    \n",
        "    directory=train_dir, #main directory where the images are\n",
        "    target_size=(IMG_SIZE,IMG_SIZE), #desire size for the images\n",
        "    class_mode=\"categorical\",     \n",
        "    shuffle=True,\n",
        "    seed = 2)\n",
        "\n",
        "test_ds = Test_Image_generator.flow_from_directory(    \n",
        "    directory=val_dir, #main directory where the images are\n",
        "    target_size=(IMG_SIZE,IMG_SIZE), #desire size for the images\n",
        "    class_mode=\"categorical\",     \n",
        "    shuffle=True,\n",
        "    seed = 2)"
      ],
      "execution_count": null,
      "outputs": [
        {
          "output_type": "stream",
          "text": [
            "Found 13926 images belonging to 7 classes.\n",
            "Found 2680 images belonging to 7 classes.\n"
          ],
          "name": "stdout"
        }
      ]
    },
    {
      "cell_type": "markdown",
      "metadata": {
        "id": "sTQyUdtZFJ_Z"
      },
      "source": [
        "In the next cell we will create the architecture for our model.\n",
        "we defined a sequential model structure wich means that the layers are organized like a stack, one over the other:\n",
        "* The first layer is useed for resizing the size of the input image into a fixed size.\n",
        "* The second layer is used for normalize the input image into a range between 0 and 1. \n",
        "* The next 6 layers are a combination betwen Convolutional layers and Pooling Layers\n",
        "* The flaatten layer is used to reduce the dimension of the previus layer to 1 and this layer is conected with a fully conecte layer (Dense) with 128 units\n",
        "* The Final layer is a fully coneceted layer with $n$ units, one for every class and is the output for our model."
      ]
    },
    {
      "cell_type": "code",
      "metadata": {
        "trusted": true,
        "id": "NELHGh6yFJ_Z"
      },
      "source": [
        "from tensorflow.keras import applications\n",
        "from tensorflow.keras import layers\n",
        "\n",
        "def build_model(num_classes):\n",
        "    \n",
        "    inputs = layers.Input(shape=(IMG_SIZE, IMG_SIZE, 3))       \n",
        "    model = applications.EfficientNetB0(include_top=False, input_tensor=inputs, weights=\"imagenet\")\n",
        "\n",
        "    # Freeze the pretrained weights\n",
        "    model.trainable = False\n",
        "\n",
        "    # Rebuild top\n",
        "    x = layers.GlobalAveragePooling2D(name=\"avg_pool\")(model.output)\n",
        "    x = layers.BatchNormalization()(x)\n",
        "\n",
        "    top_dropout_rate = 0.2\n",
        "    x = layers.Dropout(top_dropout_rate, name=\"top_dropout\")(x)\n",
        "    outputs = layers.Dense(NUM_CLASSES, activation=\"softmax\", name=\"pred\")(x)\n",
        "\n",
        "    # Compile\n",
        "    model = tf.keras.Model(inputs, outputs, name=\"EfficientNet\")   \n",
        "    \n",
        "    # We unfreeze the top 20 layers while leaving BatchNorm layers frozen\n",
        "    for layer in model.layers[-20:]:\n",
        "        if not isinstance(layer, layers.BatchNormalization):\n",
        "            layer.trainable = True\n",
        "    return model"
      ],
      "execution_count": null,
      "outputs": []
    },
    {
      "cell_type": "markdown",
      "metadata": {
        "id": "9ZTvEj9mFJ_a"
      },
      "source": [
        "if the previus cell is the models skelton, this part is the model muscles.\n",
        "First we used *[adam](http://https://arxiv.org/abs/1412.6980)* optimizer wich is one of the best optimizacion methods in machine learning.\n",
        "loss....\n",
        "Finally, the evaluation metrics is set to accuracy. A numerical value that provide use a general metric of the models peroformance.\n",
        "\n",
        "\n"
      ]
    },
    {
      "cell_type": "code",
      "metadata": {
        "trusted": true,
        "id": "Q4ttui-lFJ_a"
      },
      "source": [
        "#with tf.device(r\"/device:GPU:0\"):\n",
        "model = tf.keras.Sequential([     \n",
        "  layers.Conv2D(16,(3,3),input_shape=(IMG_SIZE,IMG_SIZE,3),activation=\"relu\"),    \n",
        "  layers.MaxPooling2D(),\n",
        "  layers.Conv2D(32, 3, activation='relu'),\n",
        "  layers.MaxPooling2D(),\n",
        "  layers.Conv2D(32, 3, activation='relu'),\n",
        "  layers.MaxPooling2D(),\n",
        "  layers.Flatten(),\n",
        "  layers.Dense(128, activation='relu'),\n",
        "  layers.Dense(7, activation=\"softmax\")\n",
        "])\n",
        "\n",
        "\n",
        "optimizer = keras.optimizers.Adam(learning_rate=0.0001)\n",
        "\n",
        "model.compile(\n",
        "  optimizer= optimizer,\n",
        "  loss=\"categorical_crossentropy\",  \n",
        "  metrics=['accuracy'])\n",
        "\n"
      ],
      "execution_count": null,
      "outputs": []
    },
    {
      "cell_type": "markdown",
      "metadata": {
        "id": "k8GynpSdFJ_a"
      },
      "source": [
        "Here we provide our [callbacks functions](https://keras.io/api/callbacks/), wich are usefull functions to control our model when in training time.\n",
        "\n",
        "* The first one is ReduceLROnPlateau and is used to reduce the models learning rate when ther is no signifiaclly imporvemente in the selected metric after $n$ epochs.\n",
        "* The second one is ModelCheckpoint and is used to create check points of our model.\n",
        "\n"
      ]
    },
    {
      "cell_type": "code",
      "metadata": {
        "trusted": true,
        "id": "Ng9gtm09FJ_b"
      },
      "source": [
        "from tensorflow.keras.callbacks import EarlyStopping,  ReduceLROnPlateau, ModelCheckpoint\n",
        "\n",
        "\n",
        "check_point = r\"./weights-improvement-{epoch:02d}-{val_accuracy:.2f}.hdf5\"\n",
        "\n",
        "\n",
        "my_callbacks = [  \n",
        "  ReduceLROnPlateau(monitor=\"accuracy\",factor=0.1,patience=3,min_delta=0.01),\n",
        "  ModelCheckpoint(filepath=check_point,save_best_only=True),\n",
        "  tf.keras.callbacks.EarlyStopping(patience=5)\n",
        "]"
      ],
      "execution_count": null,
      "outputs": []
    },
    {
      "cell_type": "markdown",
      "metadata": {
        "id": "sts7zQGyFJ_c"
      },
      "source": [
        "Finaly we train the model for 30 epochs."
      ]
    },
    {
      "cell_type": "code",
      "metadata": {
        "trusted": true,
        "id": "9-f8yXbIFJ_c",
        "outputId": "08b680a5-3208-4883-f02f-89974bfcd8f3"
      },
      "source": [
        "history = model.fit(\n",
        "  train_ds,\n",
        "  validation_data=test_ds,\n",
        "  epochs=50,\n",
        "  callbacks= my_callbacks,  \n",
        ")"
      ],
      "execution_count": null,
      "outputs": [
        {
          "output_type": "stream",
          "text": [
            "Epoch 1/50\n",
            "318/436 [====================>.........] - ETA: 58s - loss: 1.8736 - accuracy: 0.2356"
          ],
          "name": "stdout"
        },
        {
          "output_type": "stream",
          "text": [
            "/opt/conda/lib/python3.7/site-packages/PIL/TiffImagePlugin.py:792: UserWarning: Corrupt EXIF data.  Expecting to read 2 bytes but only got 0. \n",
            "  warnings.warn(str(msg))\n"
          ],
          "name": "stderr"
        },
        {
          "output_type": "stream",
          "text": [
            "436/436 [==============================] - 226s 519ms/step - loss: 1.8696 - accuracy: 0.2384 - val_loss: 1.8605 - val_accuracy: 0.2325\n",
            "Epoch 2/50\n",
            "436/436 [==============================] - 220s 504ms/step - loss: 1.8265 - accuracy: 0.2604 - val_loss: 1.8296 - val_accuracy: 0.2373\n",
            "Epoch 3/50\n",
            "436/436 [==============================] - 222s 510ms/step - loss: 1.8038 - accuracy: 0.2749 - val_loss: 1.8396 - val_accuracy: 0.2575\n",
            "Epoch 4/50\n",
            "436/436 [==============================] - 219s 502ms/step - loss: 1.7849 - accuracy: 0.2902 - val_loss: 1.8051 - val_accuracy: 0.2623\n",
            "Epoch 5/50\n",
            "436/436 [==============================] - 219s 501ms/step - loss: 1.7698 - accuracy: 0.2966 - val_loss: 1.7716 - val_accuracy: 0.2851\n",
            "Epoch 6/50\n",
            "436/436 [==============================] - 216s 496ms/step - loss: 1.7586 - accuracy: 0.3008 - val_loss: 1.7502 - val_accuracy: 0.2993\n",
            "Epoch 7/50\n",
            "436/436 [==============================] - 218s 501ms/step - loss: 1.7438 - accuracy: 0.3079 - val_loss: 1.7607 - val_accuracy: 0.2940\n",
            "Epoch 8/50\n",
            "436/436 [==============================] - 215s 493ms/step - loss: 1.7353 - accuracy: 0.3101 - val_loss: 1.7511 - val_accuracy: 0.2836\n",
            "Epoch 9/50\n",
            "436/436 [==============================] - 215s 493ms/step - loss: 1.7194 - accuracy: 0.3169 - val_loss: 1.7273 - val_accuracy: 0.3015\n",
            "Epoch 10/50\n",
            "436/436 [==============================] - 214s 491ms/step - loss: 1.7131 - accuracy: 0.3221 - val_loss: 1.7227 - val_accuracy: 0.3104\n",
            "Epoch 11/50\n",
            "436/436 [==============================] - 211s 484ms/step - loss: 1.7015 - accuracy: 0.3288 - val_loss: 1.7192 - val_accuracy: 0.3104\n",
            "Epoch 12/50\n",
            "436/436 [==============================] - 209s 478ms/step - loss: 1.6956 - accuracy: 0.3300 - val_loss: 1.7112 - val_accuracy: 0.3112\n",
            "Epoch 13/50\n",
            "436/436 [==============================] - 207s 475ms/step - loss: 1.6876 - accuracy: 0.3328 - val_loss: 1.7097 - val_accuracy: 0.3157\n",
            "Epoch 14/50\n",
            "436/436 [==============================] - 209s 478ms/step - loss: 1.6808 - accuracy: 0.3381 - val_loss: 1.6922 - val_accuracy: 0.3142\n",
            "Epoch 15/50\n",
            "436/436 [==============================] - 212s 485ms/step - loss: 1.6600 - accuracy: 0.3473 - val_loss: 1.6725 - val_accuracy: 0.3325\n",
            "Epoch 16/50\n",
            "436/436 [==============================] - 210s 482ms/step - loss: 1.6534 - accuracy: 0.3524 - val_loss: 1.6717 - val_accuracy: 0.3351\n",
            "Epoch 17/50\n",
            "436/436 [==============================] - 216s 495ms/step - loss: 1.6450 - accuracy: 0.3559 - val_loss: 1.6626 - val_accuracy: 0.3433\n",
            "Epoch 18/50\n",
            "436/436 [==============================] - 222s 510ms/step - loss: 1.6455 - accuracy: 0.3557 - val_loss: 1.6642 - val_accuracy: 0.3399\n",
            "Epoch 19/50\n",
            "436/436 [==============================] - 232s 532ms/step - loss: 1.6456 - accuracy: 0.3585 - val_loss: 1.6667 - val_accuracy: 0.3410\n",
            "Epoch 20/50\n",
            "436/436 [==============================] - 232s 531ms/step - loss: 1.6446 - accuracy: 0.3566 - val_loss: 1.6668 - val_accuracy: 0.3422\n",
            "Epoch 21/50\n",
            "436/436 [==============================] - 223s 510ms/step - loss: 1.6450 - accuracy: 0.3554 - val_loss: 1.6680 - val_accuracy: 0.3392\n",
            "Epoch 22/50\n",
            "436/436 [==============================] - 214s 490ms/step - loss: 1.6428 - accuracy: 0.3592 - val_loss: 1.6682 - val_accuracy: 0.3373\n"
          ],
          "name": "stdout"
        }
      ]
    },
    {
      "cell_type": "code",
      "metadata": {
        "trusted": true,
        "id": "45X_9GF7FJ_d",
        "outputId": "cb61a78c-b5d0-4e56-9392-b56dfc6dccc9"
      },
      "source": [
        "print(K.eval(model.optimizer.lr))"
      ],
      "execution_count": null,
      "outputs": [
        {
          "output_type": "stream",
          "text": [
            "1e-08\n"
          ],
          "name": "stdout"
        }
      ]
    },
    {
      "cell_type": "markdown",
      "metadata": {
        "id": "LTsafW_-FJ_e"
      },
      "source": [
        "In the previous log console, you could see the training time of the model which is in average 170s per epoch. It is important to take into account that this model was trained using a GPU Nvidia Tesla k80 with 16gb of ram and a cpu intel xeon with 16 cores.\n",
        "\n",
        "In the previous log console, you could see the training time of the model which is in average 170s per epoch. It is important to take into account that this model was trained using a GPU Nvidia Tesla k80 with 16gb of ram and a cpu intel xeon with 16 cores.\n",
        "\n",
        "In the next cell you could see the loss and accuracy of the model after training.\n"
      ]
    },
    {
      "cell_type": "code",
      "metadata": {
        "trusted": true,
        "id": "aEyxJgxsFJ_e",
        "outputId": "56bf0501-0d17-452f-9d4b-0309ebc49863"
      },
      "source": [
        "import matplotlib.pyplot as plt\n",
        "\n",
        "\n",
        "\n",
        "plt.plot(history.history[\"accuracy\"])\n",
        "plt.plot(history.history[\"val_accuracy\"])\n",
        "plt.title(\"model accuracy\")\n",
        "plt.ylabel(\"accuracy\")\n",
        "plt.xlabel(\"epoch\")\n",
        "plt.legend([\"train\", \"validation\"], loc=\"upper left\")\n",
        "plt.show()"
      ],
      "execution_count": null,
      "outputs": [
        {
          "output_type": "display_data",
          "data": {
            "text/plain": [
              "<Figure size 432x288 with 1 Axes>"
            ],
            "image/png": "[encoded data removed]"
          },
          "metadata": {
            "tags": [],
            "needs_background": "light"
          }
        }
      ]
    },
    {
      "cell_type": "code",
      "metadata": {
        "trusted": true,
        "id": "xkNtO3bvFJ_g",
        "outputId": "90a4a6b8-5612-4415-de50-1568127aa875"
      },
      "source": [
        "plt.plot(history.history['loss'])\n",
        "plt.plot(history.history['val_loss'])\n",
        "plt.title('model loss')\n",
        "plt.ylabel('loss')\n",
        "plt.xlabel('epoch')\n",
        "plt.legend(['train', 'val'], loc='upper left')\n",
        "plt.show()"
      ],
      "execution_count": null,
      "outputs": [
        {
          "output_type": "display_data",
          "data": {
            "text/plain": [
              "<Figure size 432x288 with 1 Axes>"
            ],
            "image/png": "[encoded data removed]"
          },
          "metadata": {
            "tags": [],
            "needs_background": "light"
          }
        }
      ]
    },
    {
      "cell_type": "code",
      "metadata": {
        "trusted": true,
        "id": "TC-c6U6FFJ_h"
      },
      "source": [
        "import itertools\n",
        "def plot_confusion_matrix(cm, classes,\n",
        "                        normalize=False,\n",
        "                        title='Confusion matrix',\n",
        "                        cmap=plt.cm.Blues):\n",
        "    \"\"\"\n",
        "    This function prints and plots the confusion matrix.\n",
        "    Normalization can be applied by setting `normalize=True`.\n",
        "    \"\"\"\n",
        "    plt.imshow(cm, interpolation='nearest', cmap=cmap)\n",
        "    plt.title(title)\n",
        "    plt.colorbar()\n",
        "    tick_marks = np.arange(len(classes))\n",
        "    plt.xticks(tick_marks, classes, rotation=45)\n",
        "    plt.yticks(tick_marks, classes)\n",
        "\n",
        "    if normalize:\n",
        "        cm = cm.astype('float') / cm.sum(axis=1)[:, np.newaxis]\n",
        "        print(\"Normalized confusion matrix\")\n",
        "    else:\n",
        "        print('Confusion matrix, without normalization')\n",
        "\n",
        "    print(cm)\n",
        "\n",
        "    thresh = cm.max() / 2.\n",
        "    for i, j in itertools.product(range(cm.shape[0]), range(cm.shape[1])):\n",
        "        plt.text(j, i, cm[i, j],\n",
        "            horizontalalignment=\"center\",\n",
        "            color=\"white\" if cm[i, j] > thresh else \"black\")\n",
        "\n",
        "    plt.tight_layout()\n",
        "    plt.ylabel('True label')\n",
        "    plt.xlabel('Predicted label')"
      ],
      "execution_count": null,
      "outputs": []
    },
    {
      "cell_type": "code",
      "metadata": {
        "trusted": true,
        "id": "SzuugOqYFJ_h",
        "outputId": "e3c088fe-dad2-45e7-a6d9-7f9eb545b56e"
      },
      "source": [
        "from sklearn.metrics import classification_report, confusion_matrix\n",
        "validation_generator = test_ds\n",
        "classes = paths\n",
        "\n",
        "Y_pred = model.predict_generator(validation_generator)\n",
        "y_pred = np.argmax(Y_pred, axis=1)\n",
        "cm = confusion_matrix(validation_generator.classes, y_pred)\n",
        "plot_confusion_matrix(cm, classes)\n",
        "                        \n",
        "                        \n",
        "                        \n"
      ],
      "execution_count": null,
      "outputs": [
        {
          "output_type": "stream",
          "text": [
            "/opt/conda/lib/python3.7/site-packages/PIL/Image.py:952: UserWarning: Palette images with Transparency expressed in bytes should be converted to RGBA images\n",
            "  \"Palette images with Transparency expressed in bytes should be \"\n"
          ],
          "name": "stderr"
        },
        {
          "output_type": "stream",
          "text": [
            "Confusion matrix, without normalization\n",
            "[[  6  43  97 113  59   3  50]\n",
            " [  6  29  65 111  61   2  59]\n",
            " [ 19  47  91 124  65   2  59]\n",
            " [ 12  43 124 158  81   2  81]\n",
            " [ 24  48 118 148  73   5  60]\n",
            " [  7  20  32  65  31   1  25]\n",
            " [ 11  42 108 136  58   2  54]]\n"
          ],
          "name": "stdout"
        },
        {
          "output_type": "display_data",
          "data": {
            "text/plain": [
              "<Figure size 432x288 with 2 Axes>"
            ],
            "image/png": "[encoded data removed]"
          },
          "metadata": {
            "tags": [],
            "needs_background": "light"
          }
        }
      ]
    },
    {
      "cell_type": "markdown",
      "metadata": {
        "id": "-a-UpsTNFJ_i"
      },
      "source": [
        "As you can see the model didnt achive the desired performance so to improve this we will try with another approach using transfer learning from the $x-net$.\n"
      ]
    }
  ]
}