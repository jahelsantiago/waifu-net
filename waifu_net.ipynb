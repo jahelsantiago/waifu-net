{
  "nbformat": 4,
  "nbformat_minor": 0,
  "metadata": {
    "colab": {
      "name": "waifu-net.ipynb",
      "provenance": [],
      "collapsed_sections": [],
      "mount_file_id": "1To0G9Fbf2Vvdc2zcXtxhSCntG61eWUas",
      "authorship_tag": "ABX9TyOGiQjrj2M8JW5SGEXA3Etc",
      "include_colab_link": true
    },
    "kernelspec": {
      "name": "python3",
      "display_name": "Python 3"
    }
  },
  "cells": [
    {
      "cell_type": "markdown",
      "metadata": {
        "id": "view-in-github",
        "colab_type": "text"
      },
      "source": [
        "<a href=\"https://colab.research.google.com/github/jahelsantiago/waifu-net/blob/main/waifu_net.ipynb\" target=\"_parent\"><img src=\"https://colab.research.google.com/assets/colab-badge.svg\" alt=\"Open In Colab\"/></a>"
      ]
    },
    {
      "cell_type": "markdown",
      "metadata": {
        "id": "xCUFboTeVmS7"
      },
      "source": [
        "#Data exploration"
      ]
    },
    {
      "cell_type": "code",
      "metadata": {
        "id": "mi2uM3oGVlYw"
      },
      "source": [
        "import os\n",
        "import pandas as pd\n",
        "import seaborn as sns\n",
        "import matplotlib.pyplot as plt\n",
        "from keras.models import Model"
      ],
      "execution_count": null,
      "outputs": []
    },
    {
      "cell_type": "code",
      "metadata": {
        "id": "ybasD7jKVpcE",
        "colab": {
          "base_uri": "https://localhost:8080/",
          "height": 80
        },
        "outputId": "4c926ec9-0b83-43e3-e1f3-6d35451868d6"
      },
      "source": [
        "main_path = r\"/content/drive/MyDrive/Colab Notebooks/waifu-net/waifus_images\"\n",
        "paths = os.listdir(main_path)\n",
        "dict_clases = {}\n",
        "for path in paths:\n",
        "  dict_clases[path] = [len(os.listdir(os.path.join(main_path, path)))]\n",
        "\n",
        "\n",
        "df_classes = pd.DataFrame(dict_clases)  \n",
        "df_classes.head()"
      ],
      "execution_count": null,
      "outputs": [
        {
          "output_type": "execute_result",
          "data": {
            "text/html": [
              "<div>\n",
              "<style scoped>\n",
              "    .dataframe tbody tr th:only-of-type {\n",
              "        vertical-align: middle;\n",
              "    }\n",
              "\n",
              "    .dataframe tbody tr th {\n",
              "        vertical-align: top;\n",
              "    }\n",
              "\n",
              "    .dataframe thead th {\n",
              "        text-align: right;\n",
              "    }\n",
              "</style>\n",
              "<table border=\"1\" class=\"dataframe\">\n",
              "  <thead>\n",
              "    <tr style=\"text-align: right;\">\n",
              "      <th></th>\n",
              "      <th>himedere</th>\n",
              "      <th>Deredere</th>\n",
              "      <th>Yangire</th>\n",
              "      <th>Dandere</th>\n",
              "      <th>Yandere</th>\n",
              "      <th>Tsundere</th>\n",
              "      <th>Kundere</th>\n",
              "    </tr>\n",
              "  </thead>\n",
              "  <tbody>\n",
              "    <tr>\n",
              "      <th>0</th>\n",
              "      <td>2167</td>\n",
              "      <td>564</td>\n",
              "      <td>1147</td>\n",
              "      <td>1814</td>\n",
              "      <td>3112</td>\n",
              "      <td>3564</td>\n",
              "      <td>2707</td>\n",
              "    </tr>\n",
              "  </tbody>\n",
              "</table>\n",
              "</div>"
            ],
            "text/plain": [
              "   himedere  Deredere  Yangire  Dandere  Yandere  Tsundere  Kundere\n",
              "0      2167       564     1147     1814     3112      3564     2707"
            ]
          },
          "metadata": {
            "tags": []
          },
          "execution_count": 44
        }
      ]
    },
    {
      "cell_type": "code",
      "metadata": {
        "colab": {
          "base_uri": "https://localhost:8080/",
          "height": 280
        },
        "id": "Ch9-76EWRMAm",
        "outputId": "52ce5b9a-9046-4d88-f858-9cd81bff4513"
      },
      "source": [
        "df_classes.plot.bar()"
      ],
      "execution_count": null,
      "outputs": [
        {
          "output_type": "execute_result",
          "data": {
            "text/plain": [
              "<matplotlib.axes._subplots.AxesSubplot at 0x7f7000645cc0>"
            ]
          },
          "metadata": {
            "tags": []
          },
          "execution_count": 46
        },
        {
          "output_type": "display_data",
          "data": {
            "image/png": "[encoded data removed]",
            "text/plain": [
              "<Figure size 432x288 with 1 Axes>"
            ]
          },
          "metadata": {
            "tags": [],
            "needs_background": "light"
          }
        }
      ]
    },
    {
      "cell_type": "markdown",
      "metadata": {
        "id": "dhn07Ov6kyxx"
      },
      "source": [
        ""
      ]
    },
    {
      "cell_type": "markdown",
      "metadata": {
        "id": "nGsgR_E4vdLz"
      },
      "source": [
        "Creation of the generator"
      ]
    },
    {
      "cell_type": "code",
      "metadata": {
        "colab": {
          "base_uri": "https://localhost:8080/"
        },
        "id": "4ZfKLw_DgxIn",
        "outputId": "daa5bfd2-5fdd-407c-c042-810ef1df42cd"
      },
      "source": [
        "from tensorflow.keras.preprocessing.image import ImageDataGenerator\n",
        "\n",
        "data_gen = ImageDataGenerator(\n",
        "    rescale=1./255,\n",
        "    rotation_range = 40, #rota 40 grados de forma aleatoria las imagenes\n",
        "    width_shift_range=0.2, #amplia las imagenes 20% a los lados\n",
        "    height_shift_range=0.2, #apmplia las imagenes 20% hacia arriba\n",
        "    horizontal_flip = True, #si voltea las imagenes\n",
        "    vertical_flip = True, #si voltea las imagenes\n",
        ")\n",
        "\n",
        "train = data_gen.flow_from_directory(directory=main_path,target_size=(300,300),class_mode=\"categorical\")\n"
      ],
      "execution_count": null,
      "outputs": [
        {
          "output_type": "stream",
          "text": [
            "Found 15074 images belonging to 7 classes.\n"
          ],
          "name": "stdout"
        }
      ]
    },
    {
      "cell_type": "markdown",
      "metadata": {
        "id": "MNWwFPMWvhzT"
      },
      "source": [
        "Model configuration"
      ]
    },
    {
      "cell_type": "code",
      "metadata": {
        "id": "WgmZNuLlvhik"
      },
      "source": [
        "from keras.applications.densenet import DenseNet121\n",
        "from keras.layers import Dense, GlobalAveragePooling2D\n",
        "\n",
        "\n",
        "base_model = DenseNet121(weights='imagenet',include_top=False)\n",
        "\n",
        "x = base_model.output\n",
        "x = GlobalAveragePooling2D()(x)\n",
        "predictions = Dense(len(paths), activation=\"sigmoid\")(x)\n",
        "\n",
        "model = Model(inputs=base_model.input, outputs=predictions)\n",
        "model.compile(optimizer='adam', loss=\"categorical_crossentropy\")#get_weighted_loss(pos_weights, neg_weights"
      ],
      "execution_count": null,
      "outputs": []
    },
    {
      "cell_type": "markdown",
      "metadata": {
        "id": "hDoBTNauREav"
      },
      "source": [
        "callbacks"
      ]
    },
    {
      "cell_type": "code",
      "metadata": {
        "id": "ujGWkp9xRGbL"
      },
      "source": [
        "import tensorflow as tf\n",
        "from tensorflow.keras.callbacks import EarlyStopping,  ReduceLROnPlateau, ModelCheckpoint\n",
        "\n",
        "\n",
        "my_callbacks = [\n",
        "  EarlyStopping(monitor=\"loss\",patience=3,restore_best_weights=True),\n",
        "  ReduceLROnPlateau(monitor=\"loss\",factor=0.1,patience=3)  \n",
        "]\n",
        "\n",
        "\n",
        "history = model.fit(train, epochs=2, callbacks = my_callbacks)"
      ],
      "execution_count": 6,
      "outputs": []
    },
    {
      "cell_type": "code",
      "metadata": {
        "id": "BLYaf4KAxd_f"
      },
      "source": [
        ""
      ],
      "execution_count": null,
      "outputs": []
    },
    {
      "cell_type": "code",
      "metadata": {
        "id": "Kht7HdSiyDF_"
      },
      "source": [
        ""
      ],
      "execution_count": null,
      "outputs": []
    }
  ]
}