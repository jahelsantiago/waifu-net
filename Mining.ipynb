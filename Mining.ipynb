{
 "cells": [
  {
   "cell_type": "markdown",
   "metadata": {},
   "source": [
    "!pip install selenium"
   ]
  },
  {
   "cell_type": "code",
   "execution_count": 2,
   "metadata": {},
   "outputs": [],
   "source": [
    "import selen_scrap as scp\n",
    "import pandas as pd\n",
    "import os\n",
    "\n",
    "#create de dir for the categories\n",
    "def create_dirs(main_dir, sub_dirs_list):\n",
    "    try:    \n",
    "        os.mkdir(main_dir)                        \n",
    "    except:\n",
    "        print(f\"error en la creacion del directorio {main_dir}\")        \n",
    "\n",
    "    os.chdir(main_dir)\n",
    "\n",
    "    #create dir for every category\n",
    "    for sheet_name in sub_dirs_list:\n",
    "        try:        \n",
    "            os.mkdir(sheet_name)        \n",
    "        except:\n",
    "            print(f\"error en la creacion del directorio {sheet_name}\")    \n",
    "            \n",
    "    os.chdir(\"..\")\n",
    "            \n",
    "\n",
    "def scrap_from_list(waifu_list, n_images, width, height, path):\n",
    "    \"\"\"Scrapes n_images for every record in waifu_list\n",
    "    \n",
    "    Parameters\n",
    "    - waifu_list(list) : list of the images to be scrapped\n",
    "    - n_images(int) : number of images to be scrapped for every element in waifu_list\n",
    "    - width(int) : number of pixels for width\n",
    "    - height(int) : number of pixels for height\n",
    "    - path(str) : path to save the scraped images\n",
    "    \"\"\"\n",
    "    for waifu in waifu_list:\n",
    "        scp.pages_loop(waifu, n_images, width, height, path, waifu)\n",
    "        \n",
    "        \n",
    "def get_waifus(waifu_type, n_images, size, xsl, column_name,path):\n",
    "    \"\"\"Given an xsl pandas file, mine n_images for every record in the sheet waifu_type in the column column_name\n",
    "    \n",
    "    Parameters:\n",
    "    - waifu_type(str) : name of the waifu to be mined (ex Tsundere, kundere, etc), it must be also a sheet name in the xls file\n",
    "    - n_images(int) : number of images to be scrapped for every record\n",
    "    - size(str) : size in pixel of the desierd images\n",
    "    - xsl(Obj) : xls pandas object where the images will be extracted\n",
    "    - column_name(str): name of the column where is the waifus name\n",
    "    \"\"\"\n",
    "    \n",
    "    df_waifus = xsl.parse(waifu_type)\n",
    "    waifus_list = df_waifus[column_name].values\n",
    "    width = size \n",
    "    height = size\n",
    "    path = os.path.join(path,waifu_type)\n",
    "    #scrap_from_list(waifus_list, n_images, size, size, path)\n",
    "    for waifu in waifus_list:\n",
    "        scp.pages_loop(waifu, n_images, width, height, path, waifu)\n",
    "\n"
   ]
  },
  {
   "cell_type": "markdown",
   "metadata": {},
   "source": [
    "Read the xslx file"
   ]
  },
  {
   "cell_type": "code",
   "execution_count": 3,
   "metadata": {},
   "outputs": [
    {
     "data": {
      "text/plain": [
       "['Deredere']"
      ]
     },
     "execution_count": 3,
     "metadata": {},
     "output_type": "execute_result"
    }
   ],
   "source": [
    "xls = pd.ExcelFile(\"Waifus.xlsx\")\n",
    "xls.sheet_names"
   ]
  },
  {
   "cell_type": "markdown",
   "metadata": {},
   "source": [
    "Create the directory for the images"
   ]
  },
  {
   "cell_type": "code",
   "execution_count": null,
   "metadata": {},
   "outputs": [],
   "source": [
    "create the directory\n",
    "main_dir = \"waifus_images\"\n",
    "sub_dirs_list = xls.sheet_names\n",
    "create_dirs(main_dir, sub_dirs_list)"
   ]
  },
  {
   "cell_type": "markdown",
   "metadata": {},
   "source": [
    "Mine every image in the excel file."
   ]
  },
  {
   "cell_type": "code",
   "execution_count": null,
   "metadata": {},
   "outputs": [],
   "source": [
    "#read the waifus xlsx\n",
    "n_images = 200\n",
    "size = 500\n",
    "path = \"waifus_images\"\n",
    "column_name = \"nombre\"\n",
    "for waifu in xls.sheet_names:\n",
    "    get_waifus(waifu, n_images, size, xls, column_name, path)                "
   ]
  },
  {
   "cell_type": "code",
   "execution_count": null,
   "metadata": {},
   "outputs": [],
   "source": []
  }
 ],
 "metadata": {
  "kernelspec": {
   "display_name": "Python 3",
   "language": "python",
   "name": "python3"
  },
  "language_info": {
   "codemirror_mode": {
    "name": "ipython",
    "version": 3
   },
   "file_extension": ".py",
   "mimetype": "text/x-python",
   "name": "python",
   "nbconvert_exporter": "python",
   "pygments_lexer": "ipython3",
   "version": "3.7.6"
  }
 },
 "nbformat": 4,
 "nbformat_minor": 4
}
